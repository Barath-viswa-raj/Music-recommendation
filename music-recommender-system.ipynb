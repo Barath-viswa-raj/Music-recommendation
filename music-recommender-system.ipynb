{
 "cells": [
  {
   "cell_type": "markdown",
   "id": "e49088d2",
   "metadata": {
    "papermill": {
     "duration": 0.006617,
     "end_time": "2023-10-03T18:00:48.383187",
     "exception": false,
     "start_time": "2023-10-03T18:00:48.376570",
     "status": "completed"
    },
    "tags": []
   },
   "source": [
    "*Import Dependencies*"
   ]
  },
  {
   "cell_type": "code",
   "execution_count": 2,
   "id": "72a20556",
   "metadata": {
    "execution": {
     "iopub.execute_input": "2023-10-03T18:00:48.396218Z",
     "iopub.status.busy": "2023-10-03T18:00:48.395535Z",
     "iopub.status.idle": "2023-10-03T18:00:49.654010Z",
     "shell.execute_reply": "2023-10-03T18:00:49.653116Z"
    },
    "papermill": {
     "duration": 1.267755,
     "end_time": "2023-10-03T18:00:49.656442",
     "exception": false,
     "start_time": "2023-10-03T18:00:48.388687",
     "status": "completed"
    },
    "tags": []
   },
   "outputs": [],
   "source": [
    "import os\n",
    "import sys\n",
    "import warnings\n",
    "import pandas \n",
    "import numpy\n",
    "import seaborn as sns\n",
    "import matplotlib.pyplot as plt\n",
    "warnings.filterwarnings(\"ignore\")\n",
    "import numpy as np\n",
    "import pandas as pd\n",
    "from sklearn.feature_extraction.text import CountVectorizer\n",
    "from sklearn.feature_extraction.text import TfidfVectorizer\n",
    "from sklearn.metrics.pairwise import cosine_similarity\n",
    "%matplotlib inline"
   ]
  },
  {
   "cell_type": "markdown",
   "id": "a60f9223",
   "metadata": {
    "papermill": {
     "duration": 0.004912,
     "end_time": "2023-10-03T18:00:49.666745",
     "exception": false,
     "start_time": "2023-10-03T18:00:49.661833",
     "status": "completed"
    },
    "tags": []
   },
   "source": [
    "*Load Dataset*"
   ]
  },
  {
   "cell_type": "code",
   "execution_count": 3,
   "id": "36ed5c81",
   "metadata": {
    "execution": {
     "iopub.execute_input": "2023-10-03T18:00:49.678815Z",
     "iopub.status.busy": "2023-10-03T18:00:49.678164Z",
     "iopub.status.idle": "2023-10-03T18:00:51.493535Z",
     "shell.execute_reply": "2023-10-03T18:00:51.492544Z"
    },
    "papermill": {
     "duration": 1.82407,
     "end_time": "2023-10-03T18:00:51.495884",
     "exception": false,
     "start_time": "2023-10-03T18:00:49.671814",
     "status": "completed"
    },
    "tags": []
   },
   "outputs": [],
   "source": [
    "df = pd.read_csv(\"spotify_millsongdata.csv\")"
   ]
  },
  {
   "cell_type": "markdown",
   "id": "08539772",
   "metadata": {
    "papermill": {
     "duration": 0.005199,
     "end_time": "2023-10-03T18:00:51.507948",
     "exception": false,
     "start_time": "2023-10-03T18:00:51.502749",
     "status": "completed"
    },
    "tags": []
   },
   "source": [
    "*EDA*"
   ]
  },
  {
   "cell_type": "code",
   "execution_count": 4,
   "id": "5a9edb29",
   "metadata": {
    "execution": {
     "iopub.execute_input": "2023-10-03T18:00:51.520727Z",
     "iopub.status.busy": "2023-10-03T18:00:51.520026Z",
     "iopub.status.idle": "2023-10-03T18:00:51.539916Z",
     "shell.execute_reply": "2023-10-03T18:00:51.538948Z"
    },
    "papermill": {
     "duration": 0.02899,
     "end_time": "2023-10-03T18:00:51.542381",
     "exception": false,
     "start_time": "2023-10-03T18:00:51.513391",
     "status": "completed"
    },
    "tags": []
   },
   "outputs": [],
   "source": [
    "df.drop(\"link\", axis=1, inplace = True)\n"
   ]
  },
  {
   "cell_type": "code",
   "execution_count": 5,
   "id": "e3ead83a",
   "metadata": {
    "execution": {
     "iopub.execute_input": "2023-10-03T18:00:51.554971Z",
     "iopub.status.busy": "2023-10-03T18:00:51.554253Z",
     "iopub.status.idle": "2023-10-03T18:00:51.572031Z",
     "shell.execute_reply": "2023-10-03T18:00:51.570397Z"
    },
    "papermill": {
     "duration": 0.027102,
     "end_time": "2023-10-03T18:00:51.574851",
     "exception": false,
     "start_time": "2023-10-03T18:00:51.547749",
     "status": "completed"
    },
    "tags": []
   },
   "outputs": [
    {
     "data": {
      "text/html": [
       "<div>\n",
       "<style scoped>\n",
       "    .dataframe tbody tr th:only-of-type {\n",
       "        vertical-align: middle;\n",
       "    }\n",
       "\n",
       "    .dataframe tbody tr th {\n",
       "        vertical-align: top;\n",
       "    }\n",
       "\n",
       "    .dataframe thead th {\n",
       "        text-align: right;\n",
       "    }\n",
       "</style>\n",
       "<table border=\"1\" class=\"dataframe\">\n",
       "  <thead>\n",
       "    <tr style=\"text-align: right;\">\n",
       "      <th></th>\n",
       "      <th>artist</th>\n",
       "      <th>song</th>\n",
       "      <th>text</th>\n",
       "    </tr>\n",
       "  </thead>\n",
       "  <tbody>\n",
       "    <tr>\n",
       "      <th>0</th>\n",
       "      <td>ABBA</td>\n",
       "      <td>Ahe's My Kind Of Girl</td>\n",
       "      <td>Look at her face, it's a wonderful face  \\r\\nA...</td>\n",
       "    </tr>\n",
       "    <tr>\n",
       "      <th>1</th>\n",
       "      <td>ABBA</td>\n",
       "      <td>Andante, Andante</td>\n",
       "      <td>Take it easy with me, please  \\r\\nTouch me gen...</td>\n",
       "    </tr>\n",
       "    <tr>\n",
       "      <th>2</th>\n",
       "      <td>ABBA</td>\n",
       "      <td>As Good As New</td>\n",
       "      <td>I'll never know why I had to go  \\r\\nWhy I had...</td>\n",
       "    </tr>\n",
       "    <tr>\n",
       "      <th>3</th>\n",
       "      <td>ABBA</td>\n",
       "      <td>Bang</td>\n",
       "      <td>Making somebody happy is a question of give an...</td>\n",
       "    </tr>\n",
       "    <tr>\n",
       "      <th>4</th>\n",
       "      <td>ABBA</td>\n",
       "      <td>Bang-A-Boomerang</td>\n",
       "      <td>Making somebody happy is a question of give an...</td>\n",
       "    </tr>\n",
       "  </tbody>\n",
       "</table>\n",
       "</div>"
      ],
      "text/plain": [
       "  artist                   song  \\\n",
       "0   ABBA  Ahe's My Kind Of Girl   \n",
       "1   ABBA       Andante, Andante   \n",
       "2   ABBA         As Good As New   \n",
       "3   ABBA                   Bang   \n",
       "4   ABBA       Bang-A-Boomerang   \n",
       "\n",
       "                                                text  \n",
       "0  Look at her face, it's a wonderful face  \\r\\nA...  \n",
       "1  Take it easy with me, please  \\r\\nTouch me gen...  \n",
       "2  I'll never know why I had to go  \\r\\nWhy I had...  \n",
       "3  Making somebody happy is a question of give an...  \n",
       "4  Making somebody happy is a question of give an...  "
      ]
     },
     "execution_count": 5,
     "metadata": {},
     "output_type": "execute_result"
    }
   ],
   "source": [
    "df.head()"
   ]
  },
  {
   "cell_type": "code",
   "execution_count": 6,
   "id": "45b77cab",
   "metadata": {
    "execution": {
     "iopub.execute_input": "2023-10-03T18:00:51.590276Z",
     "iopub.status.busy": "2023-10-03T18:00:51.589464Z",
     "iopub.status.idle": "2023-10-03T18:00:51.603422Z",
     "shell.execute_reply": "2023-10-03T18:00:51.602321Z"
    },
    "papermill": {
     "duration": 0.023769,
     "end_time": "2023-10-03T18:00:51.606036",
     "exception": false,
     "start_time": "2023-10-03T18:00:51.582267",
     "status": "completed"
    },
    "tags": []
   },
   "outputs": [],
   "source": [
    "df = df[0:20000]\n",
    "df.drop_duplicates(subset=\"song\", inplace=True)\n",
    "df.reset_index(drop = True, inplace = True)"
   ]
  },
  {
   "cell_type": "code",
   "execution_count": 7,
   "id": "a46d576a",
   "metadata": {
    "execution": {
     "iopub.execute_input": "2023-10-03T18:00:51.619608Z",
     "iopub.status.busy": "2023-10-03T18:00:51.619214Z",
     "iopub.status.idle": "2023-10-03T18:00:51.624697Z",
     "shell.execute_reply": "2023-10-03T18:00:51.623535Z"
    },
    "papermill": {
     "duration": 0.015049,
     "end_time": "2023-10-03T18:00:51.627069",
     "exception": false,
     "start_time": "2023-10-03T18:00:51.612020",
     "status": "completed"
    },
    "tags": []
   },
   "outputs": [],
   "source": [
    "df.rename(columns = {\"artist\":'Artist','song':'Song','text':'Lyrics'},inplace = True)"
   ]
  },
  {
   "cell_type": "code",
   "execution_count": 8,
   "id": "ac79ab73",
   "metadata": {
    "execution": {
     "iopub.execute_input": "2023-10-03T18:00:51.640173Z",
     "iopub.status.busy": "2023-10-03T18:00:51.639807Z",
     "iopub.status.idle": "2023-10-03T18:00:51.650860Z",
     "shell.execute_reply": "2023-10-03T18:00:51.649700Z"
    },
    "papermill": {
     "duration": 0.020659,
     "end_time": "2023-10-03T18:00:51.653400",
     "exception": false,
     "start_time": "2023-10-03T18:00:51.632741",
     "status": "completed"
    },
    "tags": []
   },
   "outputs": [
    {
     "data": {
      "text/html": [
       "<div>\n",
       "<style scoped>\n",
       "    .dataframe tbody tr th:only-of-type {\n",
       "        vertical-align: middle;\n",
       "    }\n",
       "\n",
       "    .dataframe tbody tr th {\n",
       "        vertical-align: top;\n",
       "    }\n",
       "\n",
       "    .dataframe thead th {\n",
       "        text-align: right;\n",
       "    }\n",
       "</style>\n",
       "<table border=\"1\" class=\"dataframe\">\n",
       "  <thead>\n",
       "    <tr style=\"text-align: right;\">\n",
       "      <th></th>\n",
       "      <th>Artist</th>\n",
       "      <th>Song</th>\n",
       "      <th>Lyrics</th>\n",
       "    </tr>\n",
       "  </thead>\n",
       "  <tbody>\n",
       "    <tr>\n",
       "      <th>0</th>\n",
       "      <td>ABBA</td>\n",
       "      <td>Ahe's My Kind Of Girl</td>\n",
       "      <td>Look at her face, it's a wonderful face  \\r\\nA...</td>\n",
       "    </tr>\n",
       "    <tr>\n",
       "      <th>1</th>\n",
       "      <td>ABBA</td>\n",
       "      <td>Andante, Andante</td>\n",
       "      <td>Take it easy with me, please  \\r\\nTouch me gen...</td>\n",
       "    </tr>\n",
       "    <tr>\n",
       "      <th>2</th>\n",
       "      <td>ABBA</td>\n",
       "      <td>As Good As New</td>\n",
       "      <td>I'll never know why I had to go  \\r\\nWhy I had...</td>\n",
       "    </tr>\n",
       "    <tr>\n",
       "      <th>3</th>\n",
       "      <td>ABBA</td>\n",
       "      <td>Bang</td>\n",
       "      <td>Making somebody happy is a question of give an...</td>\n",
       "    </tr>\n",
       "    <tr>\n",
       "      <th>4</th>\n",
       "      <td>ABBA</td>\n",
       "      <td>Bang-A-Boomerang</td>\n",
       "      <td>Making somebody happy is a question of give an...</td>\n",
       "    </tr>\n",
       "  </tbody>\n",
       "</table>\n",
       "</div>"
      ],
      "text/plain": [
       "  Artist                   Song  \\\n",
       "0   ABBA  Ahe's My Kind Of Girl   \n",
       "1   ABBA       Andante, Andante   \n",
       "2   ABBA         As Good As New   \n",
       "3   ABBA                   Bang   \n",
       "4   ABBA       Bang-A-Boomerang   \n",
       "\n",
       "                                              Lyrics  \n",
       "0  Look at her face, it's a wonderful face  \\r\\nA...  \n",
       "1  Take it easy with me, please  \\r\\nTouch me gen...  \n",
       "2  I'll never know why I had to go  \\r\\nWhy I had...  \n",
       "3  Making somebody happy is a question of give an...  \n",
       "4  Making somebody happy is a question of give an...  "
      ]
     },
     "execution_count": 8,
     "metadata": {},
     "output_type": "execute_result"
    }
   ],
   "source": [
    "df.head(5)"
   ]
  },
  {
   "cell_type": "code",
   "execution_count": 9,
   "id": "83223c9d",
   "metadata": {
    "execution": {
     "iopub.execute_input": "2023-10-03T18:00:51.666704Z",
     "iopub.status.busy": "2023-10-03T18:00:51.666299Z",
     "iopub.status.idle": "2023-10-03T18:00:51.679263Z",
     "shell.execute_reply": "2023-10-03T18:00:51.678101Z"
    },
    "papermill": {
     "duration": 0.022128,
     "end_time": "2023-10-03T18:00:51.681332",
     "exception": false,
     "start_time": "2023-10-03T18:00:51.659204",
     "status": "completed"
    },
    "tags": []
   },
   "outputs": [
    {
     "data": {
      "text/plain": [
       "Artist    0\n",
       "Song      0\n",
       "Lyrics    0\n",
       "dtype: int64"
      ]
     },
     "execution_count": 9,
     "metadata": {},
     "output_type": "execute_result"
    }
   ],
   "source": [
    "df.isnull().sum()"
   ]
  },
  {
   "cell_type": "code",
   "execution_count": 10,
   "id": "8901c1e3",
   "metadata": {
    "execution": {
     "iopub.execute_input": "2023-10-03T18:00:51.694240Z",
     "iopub.status.busy": "2023-10-03T18:00:51.693854Z",
     "iopub.status.idle": "2023-10-03T18:00:51.761722Z",
     "shell.execute_reply": "2023-10-03T18:00:51.760612Z"
    },
    "papermill": {
     "duration": 0.076752,
     "end_time": "2023-10-03T18:00:51.763810",
     "exception": false,
     "start_time": "2023-10-03T18:00:51.687058",
     "status": "completed"
    },
    "tags": []
   },
   "outputs": [
    {
     "data": {
      "text/plain": [
       "0"
      ]
     },
     "execution_count": 10,
     "metadata": {},
     "output_type": "execute_result"
    }
   ],
   "source": [
    "df.duplicated().sum()"
   ]
  },
  {
   "cell_type": "code",
   "execution_count": 11,
   "id": "ace4856a",
   "metadata": {
    "execution": {
     "iopub.execute_input": "2023-10-03T18:00:51.777158Z",
     "iopub.status.busy": "2023-10-03T18:00:51.776777Z",
     "iopub.status.idle": "2023-10-03T18:00:51.783933Z",
     "shell.execute_reply": "2023-10-03T18:00:51.782986Z"
    },
    "papermill": {
     "duration": 0.01628,
     "end_time": "2023-10-03T18:00:51.786049",
     "exception": false,
     "start_time": "2023-10-03T18:00:51.769769",
     "status": "completed"
    },
    "tags": []
   },
   "outputs": [
    {
     "data": {
      "text/plain": [
       "Index(['Artist', 'Song', 'Lyrics'], dtype='object')"
      ]
     },
     "execution_count": 11,
     "metadata": {},
     "output_type": "execute_result"
    }
   ],
   "source": [
    "df.columns"
   ]
  },
  {
   "cell_type": "code",
   "execution_count": 12,
   "id": "ae6d1932",
   "metadata": {
    "execution": {
     "iopub.execute_input": "2023-10-03T18:00:51.799915Z",
     "iopub.status.busy": "2023-10-03T18:00:51.799090Z",
     "iopub.status.idle": "2023-10-03T18:00:51.837258Z",
     "shell.execute_reply": "2023-10-03T18:00:51.836235Z"
    },
    "papermill": {
     "duration": 0.047572,
     "end_time": "2023-10-03T18:00:51.839481",
     "exception": false,
     "start_time": "2023-10-03T18:00:51.791909",
     "status": "completed"
    },
    "tags": []
   },
   "outputs": [],
   "source": [
    "df['Combined_features'] = df['Artist']+\" \"+df['Song']+\" \"+df['Lyrics']"
   ]
  },
  {
   "cell_type": "markdown",
   "id": "f96538b5",
   "metadata": {
    "papermill": {
     "duration": 0.005767,
     "end_time": "2023-10-03T18:00:51.851366",
     "exception": false,
     "start_time": "2023-10-03T18:00:51.845599",
     "status": "completed"
    },
    "tags": []
   },
   "source": [
    "*Function for cleaning data*"
   ]
  },
  {
   "cell_type": "code",
   "execution_count": 13,
   "id": "95f48397",
   "metadata": {
    "execution": {
     "iopub.execute_input": "2023-10-03T18:00:51.865008Z",
     "iopub.status.busy": "2023-10-03T18:00:51.864409Z",
     "iopub.status.idle": "2023-10-03T18:00:52.433042Z",
     "shell.execute_reply": "2023-10-03T18:00:52.431873Z"
    },
    "papermill": {
     "duration": 0.578395,
     "end_time": "2023-10-03T18:00:52.435687",
     "exception": false,
     "start_time": "2023-10-03T18:00:51.857292",
     "status": "completed"
    },
    "tags": []
   },
   "outputs": [],
   "source": [
    "import re\n",
    "import nltk\n",
    "from nltk.corpus import stopwords\n",
    "def cleaning(text):\n",
    "    text = re.sub(\"[^a-zA-Z]\", \" \", text)\n",
    "    text = text.lower()\n",
    "    text = text.split()\n",
    "    stops = set(stopwords.words(\"english\"))\n",
    "    text = [w for w in text if not w in stops]\n",
    "    text = \" \".join(text)\n",
    "    return text"
   ]
  },
  {
   "cell_type": "code",
   "execution_count": 14,
   "id": "3d070b71",
   "metadata": {
    "execution": {
     "iopub.execute_input": "2023-10-03T18:00:52.449640Z",
     "iopub.status.busy": "2023-10-03T18:00:52.449205Z",
     "iopub.status.idle": "2023-10-03T18:00:57.359279Z",
     "shell.execute_reply": "2023-10-03T18:00:57.358207Z"
    },
    "papermill": {
     "duration": 4.920135,
     "end_time": "2023-10-03T18:00:57.361968",
     "exception": false,
     "start_time": "2023-10-03T18:00:52.441833",
     "status": "completed"
    },
    "tags": []
   },
   "outputs": [],
   "source": [
    "df['Combined_features'] = df['Combined_features'].apply(func = cleaning)"
   ]
  },
  {
   "cell_type": "markdown",
   "id": "5dfe3436",
   "metadata": {
    "papermill": {
     "duration": 0.006284,
     "end_time": "2023-10-03T18:00:57.374803",
     "exception": false,
     "start_time": "2023-10-03T18:00:57.368519",
     "status": "completed"
    },
    "tags": []
   },
   "source": [
    "*Vectorization*"
   ]
  },
  {
   "cell_type": "code",
   "execution_count": 15,
   "id": "3dc3c73f",
   "metadata": {
    "execution": {
     "iopub.execute_input": "2023-10-03T18:00:57.388658Z",
     "iopub.status.busy": "2023-10-03T18:00:57.387710Z",
     "iopub.status.idle": "2023-10-03T18:00:57.392981Z",
     "shell.execute_reply": "2023-10-03T18:00:57.391762Z"
    },
    "papermill": {
     "duration": 0.014494,
     "end_time": "2023-10-03T18:00:57.395130",
     "exception": false,
     "start_time": "2023-10-03T18:00:57.380636",
     "status": "completed"
    },
    "tags": []
   },
   "outputs": [],
   "source": [
    "tfv = TfidfVectorizer(max_features = 20000)"
   ]
  },
  {
   "cell_type": "markdown",
   "id": "dbaf81a7",
   "metadata": {
    "papermill": {
     "duration": 0.005509,
     "end_time": "2023-10-03T18:00:57.406510",
     "exception": false,
     "start_time": "2023-10-03T18:00:57.401001",
     "status": "completed"
    },
    "tags": []
   },
   "source": [
    "*Data Transformation*"
   ]
  },
  {
   "cell_type": "code",
   "execution_count": 16,
   "id": "7806f770",
   "metadata": {
    "execution": {
     "iopub.execute_input": "2023-10-03T18:00:57.419641Z",
     "iopub.status.busy": "2023-10-03T18:00:57.419206Z",
     "iopub.status.idle": "2023-10-03T18:00:58.987201Z",
     "shell.execute_reply": "2023-10-03T18:00:58.986053Z"
    },
    "papermill": {
     "duration": 1.577464,
     "end_time": "2023-10-03T18:00:58.989731",
     "exception": false,
     "start_time": "2023-10-03T18:00:57.412267",
     "status": "completed"
    },
    "tags": []
   },
   "outputs": [],
   "source": [
    "tfv_matrix = tfv.fit_transform(df[\"Combined_features\"])"
   ]
  },
  {
   "cell_type": "markdown",
   "id": "5acc25bc",
   "metadata": {
    "papermill": {
     "duration": 0.005677,
     "end_time": "2023-10-03T18:00:59.001559",
     "exception": false,
     "start_time": "2023-10-03T18:00:58.995882",
     "status": "completed"
    },
    "tags": []
   },
   "source": [
    "*Cosine Similarities Matrix*"
   ]
  },
  {
   "cell_type": "code",
   "execution_count": 20,
   "id": "585ddfc3",
   "metadata": {
    "execution": {
     "iopub.execute_input": "2023-10-03T18:00:59.015080Z",
     "iopub.status.busy": "2023-10-03T18:00:59.014716Z",
     "iopub.status.idle": "2023-10-03T18:01:15.791193Z",
     "shell.execute_reply": "2023-10-03T18:01:15.790128Z"
    },
    "papermill": {
     "duration": 16.786131,
     "end_time": "2023-10-03T18:01:15.793732",
     "exception": false,
     "start_time": "2023-10-03T18:00:59.007601",
     "status": "completed"
    },
    "tags": []
   },
   "outputs": [],
   "source": [
    "cosine_sim = cosine_similarity(tfv_matrix)"
   ]
  },
  {
   "cell_type": "code",
   "execution_count": 18,
   "id": "ddc548f6",
   "metadata": {
    "execution": {
     "iopub.execute_input": "2023-10-03T18:01:15.807934Z",
     "iopub.status.busy": "2023-10-03T18:01:15.807129Z",
     "iopub.status.idle": "2023-10-03T18:01:15.817067Z",
     "shell.execute_reply": "2023-10-03T18:01:15.816045Z"
    },
    "papermill": {
     "duration": 0.01915,
     "end_time": "2023-10-03T18:01:15.819089",
     "exception": false,
     "start_time": "2023-10-03T18:01:15.799939",
     "status": "completed"
    },
    "tags": []
   },
   "outputs": [],
   "source": [
    "song_user_likes = \"Hope\"\n",
    "song_index = df[df.Song == song_user_likes].index[0]"
   ]
  },
  {
   "cell_type": "code",
   "execution_count": 21,
   "id": "01df06dd",
   "metadata": {
    "execution": {
     "iopub.execute_input": "2023-10-03T18:01:15.832075Z",
     "iopub.status.busy": "2023-10-03T18:01:15.831703Z",
     "iopub.status.idle": "2023-10-03T18:01:15.839193Z",
     "shell.execute_reply": "2023-10-03T18:01:15.838355Z"
    },
    "papermill": {
     "duration": 0.016422,
     "end_time": "2023-10-03T18:01:15.841272",
     "exception": false,
     "start_time": "2023-10-03T18:01:15.824850",
     "status": "completed"
    },
    "tags": []
   },
   "outputs": [],
   "source": [
    "similar_songs = list(enumerate(cosine_sim[song_index]))"
   ]
  },
  {
   "cell_type": "code",
   "execution_count": 22,
   "id": "c1cfd113",
   "metadata": {
    "execution": {
     "iopub.execute_input": "2023-10-03T18:01:15.854735Z",
     "iopub.status.busy": "2023-10-03T18:01:15.853963Z",
     "iopub.status.idle": "2023-10-03T18:01:15.868239Z",
     "shell.execute_reply": "2023-10-03T18:01:15.867160Z"
    },
    "papermill": {
     "duration": 0.023469,
     "end_time": "2023-10-03T18:01:15.870515",
     "exception": false,
     "start_time": "2023-10-03T18:01:15.847046",
     "status": "completed"
    },
    "tags": []
   },
   "outputs": [],
   "source": [
    "similar_song_sorted = sorted(similar_songs,key = lambda x:x[1],reverse = True)"
   ]
  },
  {
   "cell_type": "markdown",
   "id": "505f9c92",
   "metadata": {
    "papermill": {
     "duration": 0.005737,
     "end_time": "2023-10-03T18:01:15.882192",
     "exception": false,
     "start_time": "2023-10-03T18:01:15.876455",
     "status": "completed"
    },
    "tags": []
   },
   "source": [
    "*Recommender System Creation*"
   ]
  },
  {
   "cell_type": "code",
   "execution_count": 23,
   "id": "2d4597c4",
   "metadata": {
    "execution": {
     "iopub.execute_input": "2023-10-03T18:01:15.896012Z",
     "iopub.status.busy": "2023-10-03T18:01:15.895654Z",
     "iopub.status.idle": "2023-10-03T18:01:15.901338Z",
     "shell.execute_reply": "2023-10-03T18:01:15.900578Z"
    },
    "papermill": {
     "duration": 0.014774,
     "end_time": "2023-10-03T18:01:15.903192",
     "exception": false,
     "start_time": "2023-10-03T18:01:15.888418",
     "status": "completed"
    },
    "tags": []
   },
   "outputs": [],
   "source": [
    "def recommended_songs(song_user_likes):\n",
    "    song_index = df[df.Song == song_user_likes].index[0]\n",
    "    similar_songs = list(enumerate(cosine_sim[song_index]))\n",
    "    similar_song_sorted = sorted(similar_songs, key=lambda x:x[1], reverse=True)\n",
    "    \n",
    "    for song in similar_song_sorted[1:11]:\n",
    "        similar_songs = df[df.index == song[0]][\"Song\"].values[0]\n",
    "        print(similar_songs)"
   ]
  },
  {
   "cell_type": "code",
   "execution_count": 24,
   "id": "76c71596",
   "metadata": {
    "execution": {
     "iopub.execute_input": "2023-10-03T18:01:15.916887Z",
     "iopub.status.busy": "2023-10-03T18:01:15.916211Z",
     "iopub.status.idle": "2023-10-03T18:01:15.942068Z",
     "shell.execute_reply": "2023-10-03T18:01:15.940832Z"
    },
    "papermill": {
     "duration": 0.035721,
     "end_time": "2023-10-03T18:01:15.944783",
     "exception": false,
     "start_time": "2023-10-03T18:01:15.909062",
     "status": "completed"
    },
    "tags": []
   },
   "outputs": [
    {
     "name": "stdout",
     "output_type": "stream",
     "text": [
      "Boy Boy (I'm The Boy)\n",
      "Hot Boy\n",
      "Only A Boy\n",
      "Boy\n",
      "Silly Boy\n",
      "Bad Boy\n",
      "Selfish Girl\n",
      "The House Is Rockin'\n",
      "Sk8er Boi\n",
      "Dear Boy\n"
     ]
    }
   ],
   "source": [
    "recommended_songs(\"Cool\")"
   ]
  },
  {
   "cell_type": "code",
   "execution_count": 25,
   "id": "0096e584",
   "metadata": {},
   "outputs": [
    {
     "name": "stdout",
     "output_type": "stream",
     "text": [
      "Model and cosine similarity matrix saved.\n"
     ]
    }
   ],
   "source": [
    "import joblib\n",
    "\n",
    "# Assuming `tfv` is your trained TfidfVectorizer and `cosine_sim` is your cosine similarity matrix\n",
    "joblib.dump(tfv, 'tfidf_vectorizer.pkl')\n",
    "joblib.dump(cosine_sim, 'cosine_similarity_matrix.pkl')\n",
    "\n",
    "print(\"Model and cosine similarity matrix saved.\")\n"
   ]
  }
 ],
 "metadata": {
  "kernelspec": {
   "display_name": "Python 3",
   "language": "python",
   "name": "python3"
  },
  "language_info": {
   "codemirror_mode": {
    "name": "ipython",
    "version": 3
   },
   "file_extension": ".py",
   "mimetype": "text/x-python",
   "name": "python",
   "nbconvert_exporter": "python",
   "pygments_lexer": "ipython3",
   "version": "3.10.12"
  },
  "papermill": {
   "default_parameters": {},
   "duration": 37.486145,
   "end_time": "2023-10-03T18:01:16.973666",
   "environment_variables": {},
   "exception": null,
   "input_path": "__notebook__.ipynb",
   "output_path": "__notebook__.ipynb",
   "parameters": {},
   "start_time": "2023-10-03T18:00:39.487521",
   "version": "2.3.4"
  }
 },
 "nbformat": 4,
 "nbformat_minor": 5
}
